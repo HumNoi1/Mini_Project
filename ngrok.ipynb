{
 "cells": [
  {
   "cell_type": "code",
   "execution_count": 1,
   "metadata": {},
   "outputs": [
    {
     "name": "stdout",
     "output_type": "stream",
     "text": [
      "Authtoken saved to configuration file: C:\\Users\\frame\\AppData\\Local/ngrok/ngrok.yml\n",
      "Public URL: NgrokTunnel: \"https://66ad-171-4-213-251.ngrok-free.app\" -> \"http://localhost:5000\"\n"
     ]
    }
   ],
   "source": [
    "#authtoken ของใครของมันจ๊ะ\n",
    "!ngrok authtoken \"1YHegkoqVpXj5tQOGkeA6wMxuZP_7VWU5MV6UDmAY9Rrb86Z8\"\n",
    "\n",
    "\"\"\"# เปิด tunnel ของ ngrok\"\"\"\n",
    "\n",
    "from pyngrok import ngrok\n",
    "\n",
    "# ตรวจสอบว่ามี tunnel ที่เปิดอยู่หรือไม่\n",
    "existing_tunnels = ngrok.get_tunnels()\n",
    "if not existing_tunnels:\n",
    "    public_url = ngrok.connect(5000)  # เปิด tunnel ใหม่ถ้าไม่มี\n",
    "    print(f\"Public URL: {public_url}\")\n",
    "else:\n",
    "    print(\"Existing Tunnel:\", existing_tunnels[0].public_url)  # ใช้ tunnel ที่มีอยู่"
   ]
  }
 ],
 "metadata": {
  "kernelspec": {
   "display_name": ".venv",
   "language": "python",
   "name": "python3"
  },
  "language_info": {
   "codemirror_mode": {
    "name": "ipython",
    "version": 3
   },
   "file_extension": ".py",
   "mimetype": "text/x-python",
   "name": "python",
   "nbconvert_exporter": "python",
   "pygments_lexer": "ipython3",
   "version": "3.11.9"
  }
 },
 "nbformat": 4,
 "nbformat_minor": 2
}
